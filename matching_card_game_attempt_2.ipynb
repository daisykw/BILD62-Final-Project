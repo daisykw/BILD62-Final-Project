{
 "cells": [
  {
   "cell_type": "code",
   "execution_count": null,
   "id": "d5463d78-4daf-42b1-82ac-75bd639157c0",
   "metadata": {},
   "outputs": [],
   "source": [
    "!pip install pygame --user"
   ]
  },
  {
   "cell_type": "code",
   "execution_count": 3,
   "id": "95c8d260-b9c7-46e8-863d-ed752b085580",
   "metadata": {},
   "outputs": [],
   "source": [
    "#setting up the game\n",
    "import os\n",
    "os.environ[\"SDL_AUDIODRIVER\"] = \"dummy\"\n",
    "import pygame\n",
    "\n",
    "pygame.init()\n",
    "\n",
    "SCREEN_WIDTH, SCREEN_HEIGHT = 800, 600\n",
    "screen = pygame.display.set_mode((SCREEN_WIDTH, SCREEN_HEIGHT))\n",
    "pygame.display.set_caption(\"Endangered Species Memory Match Game\")\n",
    "\n",
    "Background_color = (173, 216, 230) #light blue\n",
    "Card_color = (255, 255, 255) #white\n",
    "Text_color = (0, 0, 0) #black\n",
    "\n",
    "fps = 60 \n",
    "timer = pygame.time.Clock ()\n",
    "\n",
    "pygame.quit()"
   ]
  },
  {
   "cell_type": "code",
   "execution_count": null,
   "id": "8eb687cf-2fe9-4cae-8311-7b5f1dddaf4b",
   "metadata": {
    "editable": true,
    "slideshow": {
     "slide_type": ""
    },
    "tags": []
   },
   "outputs": [],
   "source": []
  }
 ],
 "metadata": {
  "kernelspec": {
   "display_name": "Python 3 (ipykernel)",
   "language": "python",
   "name": "python3"
  },
  "language_info": {
   "codemirror_mode": {
    "name": "ipython",
    "version": 3
   },
   "file_extension": ".py",
   "mimetype": "text/x-python",
   "name": "python",
   "nbconvert_exporter": "python",
   "pygments_lexer": "ipython3",
   "version": "3.12.5"
  }
 },
 "nbformat": 4,
 "nbformat_minor": 5
}
