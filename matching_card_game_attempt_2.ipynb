{
 "cells": [
  {
   "cell_type": "code",
   "execution_count": null,
   "id": "d5463d78-4daf-42b1-82ac-75bd639157c0",
   "metadata": {},
   "outputs": [],
   "source": [
    "!pip install pygame --user"
   ]
  },
  {
   "cell_type": "code",
   "execution_count": null,
   "id": "95c8d260-b9c7-46e8-863d-ed752b085580",
   "metadata": {},
   "outputs": [],
   "source": [
    "#setting up the game\n",
    "\n",
    "import pygame\n",
    "pygame.init()\n",
    "#pygame.display.update()\n",
    "\n",
    "#screen\n",
    "SCREEN_WIDTH, SCREEN_HEIGHT = 800, 600\n",
    "screen = pygame.display.set_mode((SCREEN_WIDTH, SCREEN_HEIGHT))\n",
    "pygame.display.set_caption(\"Endangered Species Memory Match Game\")\n",
    "white = (255, 255, 255)\n",
    "black = (0,0,0)\n",
    "\n",
    "#timer\n",
    "fps = 60\n",
    "timer = pygame.time.Clock ()\n",
    "running = True \n",
    "\n",
    "while running:\n",
    "  timer.tick(fps)\n",
    "\n",
    "  for event in pygame.event.get ():\n",
    "    if event.type == pygame.QUIT:\n",
    "      running = False\n"
   ]
  },
  {
   "cell_type": "code",
   "execution_count": null,
   "id": "8eb687cf-2fe9-4cae-8311-7b5f1dddaf4b",
   "metadata": {
    "editable": true,
    "slideshow": {
     "slide_type": ""
    },
    "tags": []
   },
   "outputs": [],
   "source": []
  }
 ],
 "metadata": {
  "kernelspec": {
   "display_name": "Python 3 (ipykernel)",
   "language": "python",
   "name": "python3"
  },
  "language_info": {
   "codemirror_mode": {
    "name": "ipython",
    "version": 3
   },
   "file_extension": ".py",
   "mimetype": "text/x-python",
   "name": "python",
   "nbconvert_exporter": "python",
   "pygments_lexer": "ipython3",
   "version": "3.12.5"
  }
 },
 "nbformat": 4,
 "nbformat_minor": 5
}
