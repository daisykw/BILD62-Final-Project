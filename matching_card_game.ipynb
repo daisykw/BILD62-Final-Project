{
 "cells": [
  {
   "cell_type": "code",
   "execution_count": 3,
   "id": "6af66726-7f4c-4543-aa63-089e251b1ec7",
   "metadata": {},
   "outputs": [
    {
     "name": "stdout",
     "output_type": "stream",
     "text": [
      "Requirement already satisfied: pygame in /Users/daisykwok/.local/lib/python3.12/site-packages (2.6.1)\n"
     ]
    }
   ],
   "source": [
    "!pip install pygame --user"
   ]
  },
  {
   "cell_type": "code",
   "execution_count": 4,
   "id": "ac914c09-893f-4fba-ae60-d41adb8ae115",
   "metadata": {},
   "outputs": [
    {
     "ename": "NameError",
     "evalue": "name 'cards' is not defined",
     "output_type": "error",
     "traceback": [
      "\u001b[0;31m---------------------------------------------------------------------------\u001b[0m",
      "\u001b[0;31mNameError\u001b[0m                                 Traceback (most recent call last)",
      "Cell \u001b[0;32mIn[4], line 41\u001b[0m\n\u001b[1;32m     39\u001b[0m \u001b[38;5;28;01mif\u001b[39;00m event\u001b[38;5;241m.\u001b[39mtype \u001b[38;5;241m==\u001b[39m pygame\u001b[38;5;241m.\u001b[39mMOUSEBUTTONDOWN:\n\u001b[1;32m     40\u001b[0m     pos \u001b[38;5;241m=\u001b[39m pygame\u001b[38;5;241m.\u001b[39mmouse\u001b[38;5;241m.\u001b[39mget_pos ()\n\u001b[0;32m---> 41\u001b[0m     \u001b[38;5;28;01mfor\u001b[39;00m card \u001b[38;5;129;01min\u001b[39;00m \u001b[43mcards\u001b[49m:\n\u001b[1;32m     42\u001b[0m         \u001b[38;5;28;01mif\u001b[39;00m card\u001b[38;5;241m.\u001b[39mrect\u001b[38;5;241m.\u001b[39mcollidepoint(pos) \u001b[38;5;129;01mand\u001b[39;00m \u001b[38;5;129;01mnot\u001b[39;00m card\u001b[38;5;241m.\u001b[39mflipped:\n\u001b[1;32m     43\u001b[0m             card\u001b[38;5;241m.\u001b[39mflipped \u001b[38;5;241m=\u001b[39m \u001b[38;5;28;01mTrue\u001b[39;00m \n",
      "\u001b[0;31mNameError\u001b[0m: name 'cards' is not defined"
     ]
    }
   ],
   "source": [
    "#setting up the game\n",
    "import os\n",
    "os.environ[\"SDL_AUDIODRIVER\"] = \"dummy\"\n",
    "import pygame\n",
    "\n",
    "pygame.init()\n",
    "\n",
    "SCREEN_WIDTH, SCREEN_HEIGHT = 800, 600\n",
    "screen = pygame.display.set_mode((SCREEN_WIDTH, SCREEN_HEIGHT))\n",
    "pygame.display.set_caption(\"Endangered Species Memory Match Game\")\n",
    "\n",
    "Background_color = (173, 216, 230) #light blue\n",
    "Card_color = (255, 255, 255) #white\n",
    "Text_color = (0, 0, 0) #black\n",
    "\n",
    "# card layout\n",
    "class Card:\n",
    "    def _init_(self, x, y, width, height, image, info):\n",
    "        self.rect = pygame.Rect(x, y, width, height)\n",
    "        self.image = image\n",
    "        self.info = info\n",
    "        self.flipped = False\n",
    "        self.matched = False\n",
    "        \n",
    "    def draw(self, screen):\n",
    "        if self.flipped or self.matched:\n",
    "            screen.blit(self.image, (self.rect.x, self.rect.y))\n",
    "        else:\n",
    "            pygame.draw.rect(screen, CARD_COLOR, self.rect)\n",
    "\n",
    "# Matching \n",
    "def check_match(card1, card2):\n",
    "    return card1.info == card2.info\n",
    "\n",
    "flipped_cards = []\n",
    "score = 0\n",
    "\n",
    "for event in pygame.event.get():\n",
    "    if event.type == pygame.MOUSEBUTTONDOWN:\n",
    "        pos = pygame.mouse.get_pos ()\n",
    "        for card in cards:\n",
    "            if card.rect.collidepoint(pos) and not card.flipped:\n",
    "                card.flipped = True \n",
    "                flipped_cards.append(card)\n",
    "                \n",
    "    if len(flipped_cards) == 2:\n",
    "        if check_match(flipped_cards[0], flipped_cards[1]):\n",
    "            flipped_cards[0].matched = True\n",
    "            flipped_cards[1].matched = True\n",
    "            score += 1\n",
    "        else:\n",
    "            pygame.time.delay(1000)\n",
    "            flipped_cards[0].flipped = False\n",
    "            flipped_cards[1].flipped = False\n",
    "        flipped_cards = []\n",
    "\n",
    "\n"
   ]
  },
  {
   "cell_type": "code",
   "execution_count": 3,
   "id": "5de0adc4-7047-4d0e-bcef-5b7732833016",
   "metadata": {},
   "outputs": [],
   "source": []
  },
  {
   "cell_type": "code",
   "execution_count": null,
   "id": "4fa0971a-938f-4cc1-9ea0-ceead31dc78e",
   "metadata": {},
   "outputs": [],
   "source": []
  }
 ],
 "metadata": {
  "kernelspec": {
   "display_name": "Python 3 (ipykernel)",
   "language": "python",
   "name": "python3"
  },
  "language_info": {
   "codemirror_mode": {
    "name": "ipython",
    "version": 3
   },
   "file_extension": ".py",
   "mimetype": "text/x-python",
   "name": "python",
   "nbconvert_exporter": "python",
   "pygments_lexer": "ipython3",
   "version": "3.12.5"
  }
 },
 "nbformat": 4,
 "nbformat_minor": 5
}
